{
 "cells": [
  {
   "attachments": {},
   "cell_type": "markdown",
   "metadata": {},
   "source": [
    "#### Import needed"
   ]
  },
  {
   "cell_type": "code",
   "execution_count": 59,
   "metadata": {},
   "outputs": [],
   "source": [
    "import requests\n",
    "from bs4 import BeautifulSoup\n",
    "import pandas as pd\n",
    "from tqdm import tqdm\n",
    "import pickle as pkl\n",
    "from datasets import Dataset"
   ]
  },
  {
   "attachments": {},
   "cell_type": "markdown",
   "metadata": {},
   "source": [
    "#### Getting all the links of the pages"
   ]
  },
  {
   "cell_type": "code",
   "execution_count": 46,
   "metadata": {},
   "outputs": [],
   "source": [
    "last_page = 4150\n",
    "link_list = []\n",
    "for i in range(1, last_page+1):\n",
    "    link_list.append(\"https://stats.stackexchange.com/questions?tab=votes&page={}\".format(i))"
   ]
  },
  {
   "attachments": {},
   "cell_type": "markdown",
   "metadata": {},
   "source": [
    "#### Getting all the links of the questions"
   ]
  },
  {
   "cell_type": "code",
   "execution_count": null,
   "metadata": {},
   "outputs": [],
   "source": [
    "questions = []\n",
    "start = 0\n",
    "end = 500\n",
    "for link in tqdm(link_list[start:end]):\n",
    "    page = requests.get(link)\n",
    "    if page.status_code == 200:\n",
    "        pageParsed = BeautifulSoup(page.content, 'html.parser')\n",
    "        try:\n",
    "            all_page = pageParsed.find_all('div', {'class':'s-post-summary--content'})\n",
    "            for question in all_page:\n",
    "                question_link = question.find('h3', class_='s-post-summary--content-title').find('a')['href']\n",
    "                questions.append('https://stats.stackexchange.com' + question_link)\n",
    "        except:\n",
    "            print('Failed')"
   ]
  },
  {
   "attachments": {},
   "cell_type": "markdown",
   "metadata": {},
   "source": [
    "#### Save the links list of the questions"
   ]
  },
  {
   "cell_type": "code",
   "execution_count": 63,
   "metadata": {},
   "outputs": [],
   "source": [
    "with open('questions_links.pkl', 'wb') as file:\n",
    "    pkl.dump(questions, file)"
   ]
  },
  {
   "attachments": {},
   "cell_type": "markdown",
   "metadata": {},
   "source": [
    "#### Open the list"
   ]
  },
  {
   "cell_type": "code",
   "execution_count": 67,
   "metadata": {},
   "outputs": [],
   "source": [
    "with open('questions_links.pkl', 'rb') as file:\n",
    "    questions_links = pkl.load(file)"
   ]
  },
  {
   "attachments": {},
   "cell_type": "markdown",
   "metadata": {},
   "source": [
    "#### Create a dictionary that contains:\n",
    "\n",
    "- index\n",
    "\n",
    "- question\n",
    "\n",
    "- answer"
   ]
  },
  {
   "cell_type": "code",
   "execution_count": 126,
   "metadata": {},
   "outputs": [],
   "source": [
    "df_dict = {}\n",
    "idx = 1\n",
    "for question_link in questions_links[0:5]:\n",
    "    page = requests.get(question_link)\n",
    "    answers_list = []\n",
    "    if page.status_code == 200:\n",
    "        pageParsed = BeautifulSoup(page.content, 'html.parser')\n",
    "        try:\n",
    "            texts = pageParsed.find_all('div', {'class':'s-prose js-post-body'})\n",
    "            question = texts[0].text\n",
    "            if question.startswith('\\n'):\n",
    "                question = question[1:]\n",
    "            for answer in texts[1:]:\n",
    "                df_dict[idx] = {'question': question,\n",
    "                                'answer': answer.text}\n",
    "                idx += 1\n",
    "        except:\n",
    "            print('Failed')"
   ]
  },
  {
   "attachments": {},
   "cell_type": "markdown",
   "metadata": {},
   "source": [
    "#### Create a dataframe and then a transformers Dataset from the dictionary"
   ]
  },
  {
   "cell_type": "code",
   "execution_count": 127,
   "metadata": {},
   "outputs": [
    {
     "data": {
      "text/html": [
       "<div>\n",
       "<style scoped>\n",
       "    .dataframe tbody tr th:only-of-type {\n",
       "        vertical-align: middle;\n",
       "    }\n",
       "\n",
       "    .dataframe tbody tr th {\n",
       "        vertical-align: top;\n",
       "    }\n",
       "\n",
       "    .dataframe thead th {\n",
       "        text-align: right;\n",
       "    }\n",
       "</style>\n",
       "<table border=\"1\" class=\"dataframe\">\n",
       "  <thead>\n",
       "    <tr style=\"text-align: right;\">\n",
       "      <th></th>\n",
       "      <th>idx</th>\n",
       "      <th>question</th>\n",
       "      <th>answer</th>\n",
       "    </tr>\n",
       "  </thead>\n",
       "  <tbody>\n",
       "    <tr>\n",
       "      <th>0</th>\n",
       "      <td>1</td>\n",
       "      <td>In today's pattern recognition class my profes...</td>\n",
       "      <td>\\nImagine a big family dinner where everybody ...</td>\n",
       "    </tr>\n",
       "    <tr>\n",
       "      <th>1</th>\n",
       "      <td>2</td>\n",
       "      <td>In today's pattern recognition class my profes...</td>\n",
       "      <td>\\nThe manuscript \"A tutorial on Principal Comp...</td>\n",
       "    </tr>\n",
       "    <tr>\n",
       "      <th>2</th>\n",
       "      <td>3</td>\n",
       "      <td>In today's pattern recognition class my profes...</td>\n",
       "      <td>\\nLet's do (2) first.  PCA fits an ellipsoid t...</td>\n",
       "    </tr>\n",
       "    <tr>\n",
       "      <th>3</th>\n",
       "      <td>4</td>\n",
       "      <td>In today's pattern recognition class my profes...</td>\n",
       "      <td>\\nHmm, here goes for a completely non-mathemat...</td>\n",
       "    </tr>\n",
       "    <tr>\n",
       "      <th>4</th>\n",
       "      <td>5</td>\n",
       "      <td>In today's pattern recognition class my profes...</td>\n",
       "      <td>\\nI'd answer in \"layman's terms\" by saying tha...</td>\n",
       "    </tr>\n",
       "  </tbody>\n",
       "</table>\n",
       "</div>"
      ],
      "text/plain": [
       "   idx                                           question   \n",
       "0    1  In today's pattern recognition class my profes...  \\\n",
       "1    2  In today's pattern recognition class my profes...   \n",
       "2    3  In today's pattern recognition class my profes...   \n",
       "3    4  In today's pattern recognition class my profes...   \n",
       "4    5  In today's pattern recognition class my profes...   \n",
       "\n",
       "                                              answer  \n",
       "0  \\nImagine a big family dinner where everybody ...  \n",
       "1  \\nThe manuscript \"A tutorial on Principal Comp...  \n",
       "2  \\nLet's do (2) first.  PCA fits an ellipsoid t...  \n",
       "3  \\nHmm, here goes for a completely non-mathemat...  \n",
       "4  \\nI'd answer in \"layman's terms\" by saying tha...  "
      ]
     },
     "metadata": {},
     "output_type": "display_data"
    }
   ],
   "source": [
    "rows = [{'idx': key, 'question': value['question'], 'answer': value['answer']} for key, value in df_dict.items()]\n",
    "df = pd.DataFrame(rows)\n",
    "display(df.head())\n",
    "dataset = Dataset.from_pandas(df)"
   ]
  },
  {
   "attachments": {},
   "cell_type": "markdown",
   "metadata": {},
   "source": [
    "#### Save the dataset"
   ]
  },
  {
   "cell_type": "code",
   "execution_count": null,
   "metadata": {},
   "outputs": [],
   "source": [
    "with open('dataset.pkl', 'wb') as file:\n",
    "    pkl.dump(dataset, file)"
   ]
  }
 ],
 "metadata": {
  "kernelspec": {
   "display_name": "Python 3",
   "language": "python",
   "name": "python3"
  },
  "language_info": {
   "codemirror_mode": {
    "name": "ipython",
    "version": 3
   },
   "file_extension": ".py",
   "mimetype": "text/x-python",
   "name": "python",
   "nbconvert_exporter": "python",
   "pygments_lexer": "ipython3",
   "version": "3.10.4"
  },
  "orig_nbformat": 4
 },
 "nbformat": 4,
 "nbformat_minor": 2
}
