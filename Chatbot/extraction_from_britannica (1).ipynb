{
  "nbformat": 4,
  "nbformat_minor": 0,
  "metadata": {
    "colab": {
      "provenance": []
    },
    "kernelspec": {
      "name": "python3",
      "display_name": "Python 3"
    },
    "language_info": {
      "name": "python"
    }
  },
  "cells": [
    {
      "cell_type": "code",
      "execution_count": 1,
      "metadata": {
        "id": "7HWLH6Re-QtH"
      },
      "outputs": [],
      "source": [
        "%%capture\n",
        "import numpy as np\n",
        "import pandas as pd \n",
        "import requests\n",
        "import time\n",
        "import csv\n",
        "import os\n",
        "from bs4 import BeautifulSoup as bs\n",
        "from tqdm import tqdm\n",
        "from multiprocessing import Pool\n",
        "import json\n",
        "import heapq\n",
        "from sklearn.feature_extraction.text import TfidfVectorizer\n",
        "from collections import Counter\n",
        "from functools import reduce"
      ]
    },
    {
      "cell_type": "code",
      "source": [
        "%%capture\n",
        "import string\n",
        "import nltk\n",
        "from nltk.corpus import stopwords\n",
        "from nltk.tokenize import word_tokenize\n",
        "from nltk.parse.earleychart import FilteredCompleteFundamentalRule\n",
        "from nltk.stem import PorterStemmer\n",
        "nltk.download('averaged_perceptron_tagger')\n",
        "nltk.download('stopwords')\n",
        "nltk.download('wordnet')\n",
        "nltk.download('punkt')"
      ],
      "metadata": {
        "id": "17kSB9sk-VHh"
      },
      "execution_count": 2,
      "outputs": []
    },
    {
      "cell_type": "code",
      "source": [
        "from google.colab import drive\n",
        "drive.mount('/content/drive')"
      ],
      "metadata": {
        "colab": {
          "base_uri": "https://localhost:8080/"
        },
        "id": "xwdnQC4--ZPr",
        "outputId": "b0248382-18ab-4fc2-956e-80e79513a2d0"
      },
      "execution_count": 3,
      "outputs": [
        {
          "output_type": "stream",
          "name": "stdout",
          "text": [
            "Mounted at /content/drive\n"
          ]
        }
      ]
    },
    {
      "cell_type": "code",
      "source": [
        "url=\"https://www.britannica.com/science/statistics\""
      ],
      "metadata": {
        "id": "QM-Z1QM2_c0b"
      },
      "execution_count": 5,
      "outputs": []
    },
    {
      "cell_type": "code",
      "source": [
        "r = requests.get(url)\n",
        "soup = bs(r.content, 'lxml')\n",
        "soup"
      ],
      "metadata": {
        "id": "s9yanJxYErnH"
      },
      "execution_count": null,
      "outputs": []
    },
    {
      "cell_type": "code",
      "source": [
        "sub_links = soup.find_all('div', class_=\"toc ARTICLE mb-20\")"
      ],
      "metadata": {
        "id": "MfYIi_hBAG7p"
      },
      "execution_count": 26,
      "outputs": []
    },
    {
      "cell_type": "code",
      "source": [
        "sub_links"
      ],
      "metadata": {
        "colab": {
          "base_uri": "https://localhost:8080/"
        },
        "id": "fRcLK52JFSlh",
        "outputId": "e8c8aa77-bf20-4272-dc1b-f81a6cb30f7d"
      },
      "execution_count": 30,
      "outputs": [
        {
          "output_type": "execute_result",
          "data": {
            "text/plain": [
              "[<div class=\"toc ARTICLE mb-20\">\n",
              " <div class=\"font-14 font-weight-bold pb-5 ml-15\">Table of Contents</div>\n",
              " <ul class=\"list-unstyled mb-0\" data-level=\"h1\"><li data-target=\"#ref1\"><a class=\"ml-25\" href=\"/science/statistics\">Introduction</a><div class=\"ml-40 toc-drawer sub-toc-drawer\"></div></li><li data-target=\"#ref60691\"><div class=\"d-flex align-items-center\"><button aria-label=\"Toggle Heading\" class=\"h1-link-drawer-button btn btn-xs btn-circle d-flex rounded\" type=\"button\"><em class=\"material-icons font-18\" data-icon=\"keyboard_arrow_right\"></em></button><a class=\"w-100\" href=\"/science/statistics#ref60691\">Descriptive statistics</a></div><div class=\"ml-40 toc-drawer sub-toc-drawer\"><ul class=\"list-unstyled\" data-level=\"h2\"><li data-target=\"#ref60692\"><a class=\"w-100\" href=\"/science/statistics#ref60692\">Tabular methods</a></li></ul><ul class=\"list-unstyled\" data-level=\"h2\"><li data-target=\"#ref60693\"><a class=\"w-100\" href=\"/science/statistics#ref60693\">Graphical methods</a></li></ul><ul class=\"list-unstyled\" data-level=\"h2\"><li data-target=\"#ref60694\"><a class=\"w-100\" href=\"/science/statistics/Numerical-measures\">Numerical measures</a><ul class=\"list-unstyled\" data-level=\"h3\"><li data-target=\"#ref60695\"><a class=\"w-100\" href=\"/science/statistics/Numerical-measures#ref60695\">Outliers</a></li></ul><ul class=\"list-unstyled\" data-level=\"h3\"><li data-target=\"#ref60696\"><a class=\"w-100\" href=\"/science/statistics/Numerical-measures#ref60696\">Exploratory data analysis</a></li></ul></li></ul></div></li><li data-target=\"#ref60697\"><div class=\"d-flex align-items-center\"><button aria-label=\"Toggle Heading\" class=\"h1-link-drawer-button btn btn-xs btn-circle d-flex rounded\" type=\"button\"><em class=\"material-icons font-18\" data-icon=\"keyboard_arrow_right\"></em></button><a class=\"w-100\" href=\"/science/statistics/Probability\">Probability</a></div><div class=\"ml-40 toc-drawer sub-toc-drawer\"><ul class=\"list-unstyled\" data-level=\"h2\"><li data-target=\"#ref60698\"><a class=\"w-100\" href=\"/science/statistics/Probability#ref60698\">Events and their probabilities</a></li></ul><ul class=\"list-unstyled\" data-level=\"h2\"><li data-target=\"#ref60699\"><a class=\"w-100\" href=\"/science/statistics/Random-variables-and-probability-distributions\">Random variables and probability distributions</a></li></ul><ul class=\"list-unstyled\" data-level=\"h2\"><li data-target=\"#ref60700\"><a class=\"w-100\" href=\"/science/statistics/Random-variables-and-probability-distributions#ref60700\">Special probability distributions</a><ul class=\"list-unstyled\" data-level=\"h3\"><li data-target=\"#ref60701\"><a class=\"w-100\" href=\"/science/statistics/Random-variables-and-probability-distributions#ref60701\">The binomial distribution</a></li></ul><ul class=\"list-unstyled\" data-level=\"h3\"><li data-target=\"#ref60702\"><a class=\"w-100\" href=\"/science/statistics/Random-variables-and-probability-distributions#ref60702\">The Poisson distribution</a></li></ul><ul class=\"list-unstyled\" data-level=\"h3\"><li data-target=\"#ref60703\"><a class=\"w-100\" href=\"/science/statistics/Random-variables-and-probability-distributions#ref60703\">The normal distribution</a></li></ul></li></ul></div></li><li data-target=\"#ref60704\"><div class=\"d-flex align-items-center\"><button aria-label=\"Toggle Heading\" class=\"h1-link-drawer-button btn btn-xs btn-circle d-flex rounded\" type=\"button\"><em class=\"material-icons font-18\" data-icon=\"keyboard_arrow_right\"></em></button><a class=\"w-100\" href=\"/science/statistics/Estimation\">Estimation</a></div><div class=\"ml-40 toc-drawer sub-toc-drawer\"><ul class=\"list-unstyled\" data-level=\"h2\"><li data-target=\"#ref60705\"><a class=\"w-100\" href=\"/science/statistics/Estimation#ref60705\">Sampling and sampling distributions</a></li></ul><ul class=\"list-unstyled\" data-level=\"h2\"><li data-target=\"#ref60706\"><a class=\"w-100\" href=\"/science/statistics/Estimation-of-a-population-mean\">Estimation of a population mean</a></li></ul><ul class=\"list-unstyled\" data-level=\"h2\"><li data-target=\"#ref60707\"><a class=\"w-100\" href=\"/science/statistics/Estimation-of-a-population-mean#ref60707\">Estimation of other parameters</a></li></ul><ul class=\"list-unstyled\" data-level=\"h2\"><li data-target=\"#ref60708\"><a class=\"w-100\" href=\"/science/statistics/Estimation-of-a-population-mean#ref60708\">Estimation procedures for two populations</a></li></ul></div></li><li data-target=\"#ref60709\"><div class=\"d-flex align-items-center\"><div class=\"ml-25\"></div><a class=\"w-100\" href=\"/science/statistics/Hypothesis-testing\">Hypothesis testing</a></div><div class=\"ml-40 toc-drawer sub-toc-drawer\"></div></li><li data-target=\"#ref60710\"><div class=\"d-flex align-items-center\"><div class=\"ml-25\"></div><a class=\"w-100\" href=\"/science/statistics/Hypothesis-testing#ref60710\">Bayesian methods</a></div><div class=\"ml-40 toc-drawer sub-toc-drawer\"></div></li><li data-target=\"#ref60711\"><div class=\"d-flex align-items-center\"><button aria-label=\"Toggle Heading\" class=\"h1-link-drawer-button btn btn-xs btn-circle d-flex rounded\" type=\"button\"><em class=\"material-icons font-18\" data-icon=\"keyboard_arrow_right\"></em></button><a class=\"w-100\" href=\"/science/statistics/Experimental-design\">Experimental design</a></div><div class=\"ml-40 toc-drawer sub-toc-drawer\"><ul class=\"list-unstyled\" data-level=\"h2\"><li data-target=\"#ref60712\"><a class=\"w-100\" href=\"/science/statistics/Experimental-design#ref60712\">Analysis of variance and significance testing</a></li></ul><ul class=\"list-unstyled\" data-level=\"h2\"><li data-target=\"#ref60713\"><a class=\"w-100\" href=\"/science/statistics/Experimental-design#ref60713\">Regression and correlation analysis</a><ul class=\"list-unstyled\" data-level=\"h3\"><li data-target=\"#ref60714\"><a class=\"w-100\" href=\"/science/statistics/Experimental-design#ref60714\">Regression model</a></li></ul><ul class=\"list-unstyled\" data-level=\"h3\"><li data-target=\"#ref60715\"><a class=\"w-100\" href=\"/science/statistics/Experimental-design#ref60715\">Least squares method</a></li></ul><ul class=\"list-unstyled\" data-level=\"h3\"><li data-target=\"#ref60716\"><a class=\"w-100\" href=\"/science/statistics/Experimental-design#ref60716\">Analysis of variance and goodness of fit</a></li></ul><ul class=\"list-unstyled\" data-level=\"h3\"><li data-target=\"#ref60717\"><a class=\"w-100\" href=\"/science/statistics/Experimental-design#ref60717\">Significance testing</a></li></ul><ul class=\"list-unstyled\" data-level=\"h3\"><li data-target=\"#ref60718\"><a class=\"w-100\" href=\"/science/statistics/Residual-analysis\">Residual analysis</a></li></ul><ul class=\"list-unstyled\" data-level=\"h3\"><li data-target=\"#ref60719\"><a class=\"w-100\" href=\"/science/statistics/Residual-analysis#ref60719\">Model building</a></li></ul><ul class=\"list-unstyled\" data-level=\"h3\"><li data-target=\"#ref60720\"><a class=\"w-100\" href=\"/science/statistics/Residual-analysis#ref60720\">Correlation</a></li></ul></li></ul></div></li><li data-target=\"#ref60721\"><div class=\"d-flex align-items-center\"><div class=\"ml-25\"></div><a class=\"w-100\" href=\"/science/statistics/Residual-analysis#ref60721\">Time series and forecasting</a></div><div class=\"ml-40 toc-drawer sub-toc-drawer\"></div></li><li data-target=\"#ref60722\"><div class=\"d-flex align-items-center\"><div class=\"ml-25\"></div><a class=\"w-100\" href=\"/science/statistics/Residual-analysis#ref60722\">Nonparametric methods</a></div><div class=\"ml-40 toc-drawer sub-toc-drawer\"></div></li><li data-target=\"#ref60723\"><div class=\"d-flex align-items-center\"><button aria-label=\"Toggle Heading\" class=\"h1-link-drawer-button btn btn-xs btn-circle d-flex rounded\" type=\"button\"><em class=\"material-icons font-18\" data-icon=\"keyboard_arrow_right\"></em></button><a class=\"w-100\" href=\"/science/statistics/Residual-analysis#ref60723\">Statistical quality control</a></div><div class=\"ml-40 toc-drawer sub-toc-drawer\"><ul class=\"list-unstyled\" data-level=\"h2\"><li data-target=\"#ref60724\"><a class=\"w-100\" href=\"/science/statistics/Residual-analysis#ref60724\">Acceptance sampling</a></li></ul><ul class=\"list-unstyled\" data-level=\"h2\"><li data-target=\"#ref60725\"><a class=\"w-100\" href=\"/science/statistics/Residual-analysis#ref60725\">Statistical process control</a></li></ul></div></li><li data-target=\"#ref60726\"><div class=\"d-flex align-items-center\"><div class=\"ml-25\"></div><a class=\"w-100\" href=\"/science/statistics/Sample-survey-methods\">Sample survey methods</a></div><div class=\"ml-40 toc-drawer sub-toc-drawer\"></div></li><li data-target=\"#ref60727\"><div class=\"d-flex align-items-center\"><div class=\"ml-25\"></div><a class=\"w-100\" href=\"/science/statistics/Sample-survey-methods#ref60727\">Decision analysis</a></div><div class=\"ml-40 toc-drawer sub-toc-drawer\"></div></li></ul>\n",
              " </div>]"
            ]
          },
          "metadata": {},
          "execution_count": 30
        }
      ]
    },
    {
      "cell_type": "code",
      "source": [
        "\n",
        "all_text  = soup.find_all('section', id=True)"
      ],
      "metadata": {
        "id": "ir20HBzr_5Qu"
      },
      "execution_count": 25,
      "outputs": []
    },
    {
      "cell_type": "code",
      "source": [
        "href_list = []\n",
        "\n",
        "for div in sub_links:\n",
        "    anchors = div.find_all('a', class_=\"w-100\")\n",
        "    for anchor in anchors:\n",
        "        href = anchor['href']\n",
        "        href_list.append(href)\n",
        "\n",
        "print(href_list)"
      ],
      "metadata": {
        "colab": {
          "base_uri": "https://localhost:8080/"
        },
        "id": "UvMYiTpJAxnt",
        "outputId": "08101d06-3e55-4516-9a8a-c9a5795063d8"
      },
      "execution_count": 31,
      "outputs": [
        {
          "output_type": "stream",
          "name": "stdout",
          "text": [
            "['/science/statistics#ref60691', '/science/statistics#ref60692', '/science/statistics#ref60693', '/science/statistics/Numerical-measures', '/science/statistics/Numerical-measures#ref60695', '/science/statistics/Numerical-measures#ref60696', '/science/statistics/Probability', '/science/statistics/Probability#ref60698', '/science/statistics/Random-variables-and-probability-distributions', '/science/statistics/Random-variables-and-probability-distributions#ref60700', '/science/statistics/Random-variables-and-probability-distributions#ref60701', '/science/statistics/Random-variables-and-probability-distributions#ref60702', '/science/statistics/Random-variables-and-probability-distributions#ref60703', '/science/statistics/Estimation', '/science/statistics/Estimation#ref60705', '/science/statistics/Estimation-of-a-population-mean', '/science/statistics/Estimation-of-a-population-mean#ref60707', '/science/statistics/Estimation-of-a-population-mean#ref60708', '/science/statistics/Hypothesis-testing', '/science/statistics/Hypothesis-testing#ref60710', '/science/statistics/Experimental-design', '/science/statistics/Experimental-design#ref60712', '/science/statistics/Experimental-design#ref60713', '/science/statistics/Experimental-design#ref60714', '/science/statistics/Experimental-design#ref60715', '/science/statistics/Experimental-design#ref60716', '/science/statistics/Experimental-design#ref60717', '/science/statistics/Residual-analysis', '/science/statistics/Residual-analysis#ref60719', '/science/statistics/Residual-analysis#ref60720', '/science/statistics/Residual-analysis#ref60721', '/science/statistics/Residual-analysis#ref60722', '/science/statistics/Residual-analysis#ref60723', '/science/statistics/Residual-analysis#ref60724', '/science/statistics/Residual-analysis#ref60725', '/science/statistics/Sample-survey-methods', '/science/statistics/Sample-survey-methods#ref60727']\n"
          ]
        }
      ]
    },
    {
      "cell_type": "code",
      "source": [
        "new_href_list = []\n",
        "\n",
        "for href in href_list:\n",
        "    clean_href = href.replace(\"/science/statistics/\", \"\").split(\"#\")[0]\n",
        "    new_href_list.append(clean_href)\n",
        "\n",
        "print(new_href_list)"
      ],
      "metadata": {
        "colab": {
          "base_uri": "https://localhost:8080/"
        },
        "id": "4uhs72azGxCm",
        "outputId": "467a5b3a-0069-43c1-897e-784e54314aa8"
      },
      "execution_count": 33,
      "outputs": [
        {
          "output_type": "stream",
          "name": "stdout",
          "text": [
            "['/science/statistics', '/science/statistics', '/science/statistics', 'Numerical-measures', 'Numerical-measures', 'Numerical-measures', 'Probability', 'Probability', 'Random-variables-and-probability-distributions', 'Random-variables-and-probability-distributions', 'Random-variables-and-probability-distributions', 'Random-variables-and-probability-distributions', 'Random-variables-and-probability-distributions', 'Estimation', 'Estimation', 'Estimation-of-a-population-mean', 'Estimation-of-a-population-mean', 'Estimation-of-a-population-mean', 'Hypothesis-testing', 'Hypothesis-testing', 'Experimental-design', 'Experimental-design', 'Experimental-design', 'Experimental-design', 'Experimental-design', 'Experimental-design', 'Experimental-design', 'Residual-analysis', 'Residual-analysis', 'Residual-analysis', 'Residual-analysis', 'Residual-analysis', 'Residual-analysis', 'Residual-analysis', 'Residual-analysis', 'Sample-survey-methods', 'Sample-survey-methods']\n"
          ]
        }
      ]
    },
    {
      "cell_type": "code",
      "source": [
        "unique_href_list = list(set(new_href_list))\n",
        "print(unique_href_list)"
      ],
      "metadata": {
        "colab": {
          "base_uri": "https://localhost:8080/"
        },
        "id": "8PPIrrcBHLG2",
        "outputId": "e716d875-888b-43e4-996e-84c2b738440f"
      },
      "execution_count": 34,
      "outputs": [
        {
          "output_type": "stream",
          "name": "stdout",
          "text": [
            "['Sample-survey-methods', 'Estimation', 'Experimental-design', 'Residual-analysis', 'Probability', 'Hypothesis-testing', 'Estimation-of-a-population-mean', 'Random-variables-and-probability-distributions', '/science/statistics', 'Numerical-measures']\n"
          ]
        }
      ]
    },
    {
      "cell_type": "code",
      "source": [
        "my_list = [item for item in unique_href_list if item != '/science/statistics']\n",
        "\n",
        "# Aggiungi una barra all'inizio di ogni elemento\n",
        "sub_pages_final = ['https://www.britannica.com/science/statistics/' + item for item in my_list]"
      ],
      "metadata": {
        "id": "4y1F6uSCHjDg"
      },
      "execution_count": 52,
      "outputs": []
    },
    {
      "cell_type": "code",
      "source": [
        "\n",
        "sub_pages_final= list(reversed(sub_pages_final))\n",
        "sub_pages_final.insert(0,'https://www.britannica.com/science/statistics')\n",
        "print(sub_pages_final)"
      ],
      "metadata": {
        "colab": {
          "base_uri": "https://localhost:8080/"
        },
        "id": "k4cssRnzHq8i",
        "outputId": "5b269e1f-9899-4ab5-a329-d941973b11df"
      },
      "execution_count": 53,
      "outputs": [
        {
          "output_type": "stream",
          "name": "stdout",
          "text": [
            "['https://www.britannica.com/science/statistics', 'https://www.britannica.com/science/statistics/Numerical-measures', 'https://www.britannica.com/science/statistics/Random-variables-and-probability-distributions', 'https://www.britannica.com/science/statistics/Estimation-of-a-population-mean', 'https://www.britannica.com/science/statistics/Hypothesis-testing', 'https://www.britannica.com/science/statistics/Probability', 'https://www.britannica.com/science/statistics/Residual-analysis', 'https://www.britannica.com/science/statistics/Experimental-design', 'https://www.britannica.com/science/statistics/Estimation', 'https://www.britannica.com/science/statistics/Sample-survey-methods']\n"
          ]
        }
      ]
    },
    {
      "cell_type": "markdown",
      "source": [],
      "metadata": {
        "id": "VmmxqTkvHv4Y"
      }
    },
    {
      "cell_type": "markdown",
      "source": [],
      "metadata": {
        "id": "HtDCO_ziHv7K"
      }
    },
    {
      "cell_type": "code",
      "source": [
        "list_text=[]\n",
        "for link in sub_pages_final:\n",
        "  r2 = requests.get(link)\n",
        "  soup2 = bs(r2.content, 'lxml')\n",
        "  all_text2  = soup2.find_all('section', id=True)\n",
        "  for section in all_text2:\n",
        "    section_id = section['id']\n",
        "    print(section)\n",
        "    text = section.get_text()\n",
        "    text = text.split('Get a Britannica Premium subscription')[0]\n",
        "    text = text.split('Britannica Money')[0]\n",
        "    text = text.split('More From Britannica probability and statistics: The rise of statistics')[0]\n",
        "    list_text.append(text)\n",
        "    #print(f\"Testo: {text.strip()}\")\n",
        "    print(\"------------\")\n",
        "  "
      ],
      "metadata": {
        "id": "Hes4vau3HvVP"
      },
      "execution_count": null,
      "outputs": []
    },
    {
      "cell_type": "code",
      "source": [
        "def salva_lista_su_file(lista, nome_file):\n",
        "    with open(nome_file, 'w') as file:\n",
        "        for elemento in lista:\n",
        "            file.write(elemento + '\\n')"
      ],
      "metadata": {
        "id": "MYMHHR-9N0nz"
      },
      "execution_count": 71,
      "outputs": []
    },
    {
      "cell_type": "code",
      "source": [
        "def rimuovi_duplicati(lista):\n",
        "    visto = set()\n",
        "    nuova_lista = []\n",
        "    for elemento in lista:\n",
        "        if elemento not in visto:\n",
        "            visto.add(elemento)\n",
        "            nuova_lista.append(elemento)\n",
        "    return nuova_lista"
      ],
      "metadata": {
        "id": "d4n_ZSZoO4_h"
      },
      "execution_count": 79,
      "outputs": []
    },
    {
      "cell_type": "code",
      "source": [
        "len(list_text)"
      ],
      "metadata": {
        "colab": {
          "base_uri": "https://localhost:8080/"
        },
        "id": "eHLaxmL0PPIz",
        "outputId": "e6ab773b-1f20-40fb-e8fe-bf9559692d5b"
      },
      "execution_count": 80,
      "outputs": [
        {
          "output_type": "execute_result",
          "data": {
            "text/plain": [
              "43"
            ]
          },
          "metadata": {},
          "execution_count": 80
        }
      ]
    },
    {
      "cell_type": "code",
      "source": [
        "lista_senza_duplicati = rimuovi_duplicati(list_text)"
      ],
      "metadata": {
        "id": "TY6w7oGCPKjC"
      },
      "execution_count": 81,
      "outputs": []
    },
    {
      "cell_type": "code",
      "source": [
        "len(lista_senza_duplicati)\n"
      ],
      "metadata": {
        "colab": {
          "base_uri": "https://localhost:8080/"
        },
        "id": "HWDujqsiPTaV",
        "outputId": "5ef4cde6-91df-4ca7-8171-a15778feb3bc"
      },
      "execution_count": 105,
      "outputs": [
        {
          "output_type": "execute_result",
          "data": {
            "text/plain": [
              "43"
            ]
          },
          "metadata": {},
          "execution_count": 105
        }
      ]
    },
    {
      "cell_type": "code",
      "source": [
        "salva_lista_su_file(list_text, \"lista_text.txt\")"
      ],
      "metadata": {
        "id": "dV8I4iGTN3jS"
      },
      "execution_count": 72,
      "outputs": []
    },
    {
      "cell_type": "code",
      "source": [
        "Question_list=[\"What is Statistics?\", \"What is Descriptive Statistics?\", \"What are tabular methods?\", \"What are Graphical methods?\", \" What are Numerical measures? \", \" Teach me about Outliers\", \"Can you explain the Exploratory data analysis?\", \"tell me about Random variables and probability distributions\", \"what are Special probability distributions?\",\"Can you explain the binomial distribution?\", \"Can you explain the Poisson distribution?\", \"Can you explain the Normal distribution?\",\"describe the Estimation of a population mean\", \"describe the Estimation of other parameters\", \"tell me the Estimation procedures for two populations\", \"what is Hypothesis testing?\", \"what are Bayesian methods?\", \"what is Probability? \", \"tell me about the Events and their probabilities\", \"Explain Residual analysis\", \"what is Model building In regression analysis?\", \"what is Correlation?\", \"explain Time series and forecasting\", \"what are the Nonparametric methods?\", \"explain the Statistical quality control\", \" what is Acceptance sampling?\", \"tell me about Statistical process control\", \"what is an Experimental design in statistics?\", \"what is Analysis of variance and significance testing?\", \"what is Regression and correlation analysis?\", \"decsribe a Regression model\", \"can you explain the Least squares method?\", \"tell me about: Analysis of variance and goodness of fit\", \"what is Significance testing In a regression study?\", \" what is estimation in statistics and probability?\", \"what is Sampling and sampling distributions in statistics?\", \"what are Sample survey methods?\", \"what is Decision analysis in statistics?\"  ]"
      ],
      "metadata": {
        "id": "C9GWNzR1M8ql"
      },
      "execution_count": 127,
      "outputs": []
    },
    {
      "cell_type": "code",
      "source": [
        "salva_lista_su_file(Question_list, \"Question_list_britannica.txt\")"
      ],
      "metadata": {
        "id": "QEmz2WiETb4J"
      },
      "execution_count": 128,
      "outputs": []
    }
  ]
}